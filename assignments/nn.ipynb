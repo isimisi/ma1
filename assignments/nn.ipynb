{
 "cells": [
  {
   "cell_type": "markdown",
   "metadata": {},
   "source": [
    "# Mandatory Assignment 1\n",
    "\n",
    "#### Part I: Multi-layer Perceptron\n",
    "\n",
    "***\n",
    "\n",
    "Please see the description of the assignment in the README file (section 1) <br>\n",
    "**Guide notebook**: [material/nns_pytorch.ipynb](material/nns_pytorch.ipynb)\n",
    "\n",
    "Table of contents:\n",
    "1. Activate GPU\n",
    "2. Load data\n",
    "3. Inspect data\n",
    "4. Artificial neural network (**Where you will implement the ANN**)\n",
    "5. Training hyperparameters (**Where you will add training parameters**)\n",
    "6. Training\n",
    "7. Plot loss and accuracy\n",
    "8. Evaluate\n"
   ]
  },
  {
   "cell_type": "code",
   "execution_count": 1,
   "metadata": {},
   "outputs": [],
   "source": [
    "# auxilary imports\n",
    "import random\n",
    "import matplotlib.pyplot as plt\n",
    "import os\n",
    "from pathlib import Path\n",
    "\n",
    "# pytorch\n",
    "import torch\n",
    "import torch.nn as nn\n",
    "from torchvision import transforms\n",
    "import torch.nn.functional as F  # noqa"
   ]
  },
  {
   "cell_type": "markdown",
   "metadata": {},
   "source": [
    "First, a bit of a hack in case your IDE wants to run the notebook from /`assignment/` and not the project root folder `/ma1`. We need the working directory to be `/ma1` for local imports to work."
   ]
  },
  {
   "cell_type": "code",
   "execution_count": 2,
   "metadata": {},
   "outputs": [
    {
     "name": "stdout",
     "output_type": "stream",
     "text": [
      "Working directory set to: /Users/isimisi/Documents/AIML25/mas/ma1\n"
     ]
    }
   ],
   "source": [
    "# Ensure the working directory is set to the \"ma1\" folder.\n",
    "while Path.cwd().name != \"ma1\" and \"ma1\" in str(Path.cwd()):\n",
    "    os.chdir(\"..\")  # Move up one directory\n",
    "print(f\"Working directory set to: {Path.cwd()}\")"
   ]
  },
  {
   "cell_type": "markdown",
   "metadata": {},
   "source": [
    "##### Import local files\n",
    "\n",
    "To declutter the notebooks, your are given a module (`/src`) of useful functions. Please study each one as they contain important code (particularly `src.training` and `src.evaluation`). "
   ]
  },
  {
   "cell_type": "code",
   "execution_count": 3,
   "metadata": {},
   "outputs": [],
   "source": [
    "# local files\n",
    "from src.utils import get_device\n",
    "from src.data import load_torch_data, to_dataloader, train_val_split\n",
    "from src.training import fit\n",
    "from src.evaluation import evaluate\n",
    "from src.visualize import plot_training_history"
   ]
  },
  {
   "cell_type": "markdown",
   "metadata": {},
   "source": [
    "### 1. Activate GPU\n",
    "If available. Note that this is not necessary, but it will speed up your training."
   ]
  },
  {
   "cell_type": "code",
   "execution_count": 4,
   "metadata": {},
   "outputs": [
    {
     "name": "stdout",
     "output_type": "stream",
     "text": [
      "Running pytorch version (2.5.1) with backend = mps\n"
     ]
    }
   ],
   "source": [
    "# Device will determine whether to run the training on GPU or CPU.\n",
    "DEVICE = get_device()"
   ]
  },
  {
   "cell_type": "markdown",
   "metadata": {},
   "source": [
    "### 2. Load data"
   ]
  },
  {
   "cell_type": "code",
   "execution_count": 5,
   "metadata": {},
   "outputs": [
    {
     "data": {
      "text/plain": [
       "'len(train_val)=60000, len(test)=10000'"
      ]
     },
     "execution_count": 5,
     "metadata": {},
     "output_type": "execute_result"
    }
   ],
   "source": [
    "# load the training/validation data\n",
    "train_val = load_torch_data(\n",
    "    dataset=\"MNIST\",\n",
    "    root = 'data',                     # The root directory where the dataset will be stored\n",
    "    download = True,                   # If the dataset is not found at root, it will be downloaded\n",
    "    train = True,                      # The train dataset (as opposed to the test dataset)\n",
    "    transform = transforms.ToTensor()  # transformations to be applied to the dataset (only cast to tensor)\n",
    ")\n",
    "\n",
    "# load the testing data\n",
    "test = load_torch_data(\n",
    "    dataset = \"MNIST\",\n",
    "    root = 'data',\n",
    "    download = True,\n",
    "    train = False,\n",
    "    transform = transforms.ToTensor()\n",
    ")\n",
    "\n",
    "f\"{len(train_val)=}, {len(test)=}\""
   ]
  },
  {
   "cell_type": "code",
   "execution_count": 6,
   "metadata": {},
   "outputs": [
    {
     "data": {
      "text/plain": [
       "'len(val)=12000, len(train)=48000'"
      ]
     },
     "execution_count": 6,
     "metadata": {},
     "output_type": "execute_result"
    }
   ],
   "source": [
    "# split training data in training and validation (just like train_test_split in sklearn)\n",
    "train, val = train_val_split(train_val, val_ratio=0.2, seed=42)\n",
    "\n",
    "f\"{len(val)=}, {len(train)=}\""
   ]
  },
  {
   "cell_type": "code",
   "execution_count": 7,
   "metadata": {},
   "outputs": [],
   "source": [
    "# create dataloders for easy batch loading during training\n",
    "train_loader = to_dataloader(train, batch_size = 64, shuffle = True)\n",
    "val_loader = to_dataloader(val, batch_size = 64, shuffle = False)\n",
    "test_loader = to_dataloader(test, batch_size = 64, shuffle = False)"
   ]
  },
  {
   "cell_type": "markdown",
   "metadata": {},
   "source": [
    "### 3. Inspect data"
   ]
  },
  {
   "cell_type": "code",
   "execution_count": 8,
   "metadata": {},
   "outputs": [
    {
     "name": "stdout",
     "output_type": "stream",
     "text": [
      "Default image shape: torch.Size([1, 28, 28])\n",
      "Reshaped image shape: torch.Size([28, 28])\n",
      "Total pixels: 784\n",
      "The label for this image: 6\n"
     ]
    },
    {
     "data": {
      "image/png": "[encoded data removed]",
      "text/plain": [
       "<Figure size 640x480 with 1 Axes>"
      ]
     },
     "metadata": {},
     "output_type": "display_data"
    }
   ],
   "source": [
    "# Pick a random example from the training set\n",
    "selection = random.randrange(len(train)-1)\n",
    "image, label = train[selection]\n",
    "\n",
    "# Plot the image\n",
    "print(f\"Default image shape: {image.shape}\")\n",
    "image = image.view([28,28])\n",
    "\n",
    "print(f\"Reshaped image shape: {image.shape}\")\n",
    "plt.imshow(image, cmap=\"gray\")\n",
    "\n",
    "print(f\"Total pixels: {image.shape[0] * image.shape[1]}\")\n",
    "\n",
    "# Print the label\n",
    "print(f\"The label for this image: {label}\")\n"
   ]
  },
  {
   "cell_type": "markdown",
   "metadata": {},
   "source": [
    "***\n",
    "\n",
    "### 4. Artificial neural network"
   ]
  },
  {
   "cell_type": "code",
   "execution_count": 9,
   "metadata": {},
   "outputs": [],
   "source": [
    "class MLP_Base(nn.Module):\n",
    "\n",
    "  def __init__(self):\n",
    "    super().__init__()\n",
    "\n",
    "    self.fc1 = nn.Linear(28 * 28, 500)\n",
    "\n",
    "    # We have 10 diferent classes (0 - 9), that's why the number of output neurons are 10\n",
    "    self.fc2 = nn.Linear(500, 10)\n",
    "    self.relu = nn.ReLU()\n",
    "\n",
    "  def forward(self, x : torch.Tensor):\n",
    "\n",
    "    x = self.relu(self.fc1(x))\n",
    "    x = self.fc2(x) \n",
    "\n",
    "    return x"
   ]
  },
  {
   "cell_type": "markdown",
   "metadata": {},
   "source": [
    "The above illustrates what were shown in the workshop, which gained an accuracy of around **95%** with a `learning rate = 0.01` and the `number of epochs = 30`\n",
    "\n",
    "This will be used as a base case for my experimentation of the architecture. My goal is to make an architecture that will give a better result."
   ]
  },
  {
   "cell_type": "code",
   "execution_count": 44,
   "metadata": {},
   "outputs": [],
   "source": [
    "class MLP_CE(nn.Module):\n",
    "    def __init__(self):\n",
    "        super().__init__()\n",
    "\n",
    "        pixels_in_img = 28 * 28\n",
    "\n",
    "        self.fc1 = nn.Linear(pixels_in_img, pixels_in_img * 2)\n",
    "        self.fc2 = nn.Linear(pixels_in_img * 2, 500)\n",
    "        self.fc3 = nn.Linear(500, 10)\n",
    "\n",
    "        self.relu = nn.ReLU()\n",
    "\n",
    "    def forward(self, x : torch.Tensor):\n",
    "        x = self.relu(self.fc1(x))\n",
    "        x = self.relu(self.fc2(x))\n",
    "        x = self.fc3(x)\n",
    "\n",
    "        return x"
   ]
  },
  {
   "cell_type": "code",
   "execution_count": 99,
   "metadata": {},
   "outputs": [],
   "source": [
    "class MLP_Funnel(nn.Module):\n",
    "    def __init__(self):\n",
    "        super().__init__()\n",
    "\n",
    "        pixels_in_img = 28 * 28\n",
    "\n",
    "        self.fc1 = nn.Linear(pixels_in_img, 600)\n",
    "        self.fc2 = nn.Linear(600, 500)\n",
    "        self.fc3 = nn.Linear(500, 300)\n",
    "        self.fc4 = nn.Linear(300, 10)\n",
    "\n",
    "        self.relu = nn.ReLU()\n",
    "\n",
    "    def forward(self, x : torch.Tensor):\n",
    "        x = self.relu(self.fc1(x))\n",
    "        x = self.relu(self.fc2(x))\n",
    "        x = self.relu(self.fc3(x))\n",
    "        x = self.fc4(x)\n",
    "\n",
    "        return x"
   ]
  },
  {
   "cell_type": "markdown",
   "metadata": {},
   "source": [
    "### 5. Training hyperparameters"
   ]
  },
  {
   "cell_type": "code",
   "execution_count": 97,
   "metadata": {},
   "outputs": [],
   "source": [
    "# How large \"steps\" the algorithm should take\n",
    "LR = 0.01  \n",
    "\n",
    "# How many times we should run through our data, for the model to learn all signals\n",
    "NUM_EPOCHS = 50 \n",
    "\n",
    "criterion = nn.CrossEntropyLoss()  # The loss function"
   ]
  },
  {
   "cell_type": "markdown",
   "metadata": {},
   "source": [
    "Instantiate the model and optimizer"
   ]
  },
  {
   "cell_type": "code",
   "execution_count": 100,
   "metadata": {},
   "outputs": [],
   "source": [
    "model = MLP_Funnel().to(DEVICE)   # Create an instance of the MLP model and move it to device (GPU or CPU)\n",
    "optimizer = torch.optim.SGD(model.parameters(), lr=LR) # The optimizer (here, SGD - you can also try ADAM)"
   ]
  },
  {
   "cell_type": "code",
   "execution_count": 101,
   "metadata": {},
   "outputs": [
    {
     "data": {
      "text/plain": [
       "MLP_Funnel(\n",
       "  (fc1): Linear(in_features=784, out_features=600, bias=True)\n",
       "  (fc2): Linear(in_features=600, out_features=500, bias=True)\n",
       "  (fc3): Linear(in_features=500, out_features=300, bias=True)\n",
       "  (fc4): Linear(in_features=300, out_features=10, bias=True)\n",
       "  (relu): ReLU()\n",
       ")"
      ]
     },
     "execution_count": 101,
     "metadata": {},
     "output_type": "execute_result"
    }
   ],
   "source": [
    "model"
   ]
  },
  {
   "cell_type": "markdown",
   "metadata": {},
   "source": [
    "### 6. Training"
   ]
  },
  {
   "cell_type": "code",
   "execution_count": 102,
   "metadata": {},
   "outputs": [
    {
     "name": "stdout",
     "output_type": "stream",
     "text": [
      "Epoch [1/50]: Train Loss: 2.2187 | Train Accuracy: 43.25% | Val Loss: 1.9669 | Val Accuracy: 55.96%\n",
      "Epoch [2/50]: Train Loss: 1.0806 | Train Accuracy: 74.48% | Val Loss: 0.5975 | Val Accuracy: 83.17%\n",
      "Epoch [3/50]: Train Loss: 0.4842 | Train Accuracy: 86.34% | Val Loss: 0.4310 | Val Accuracy: 87.92%\n",
      "Epoch [4/50]: Train Loss: 0.3829 | Train Accuracy: 89.13% | Val Loss: 0.3741 | Val Accuracy: 89.56%\n",
      "Epoch [5/50]: Train Loss: 0.3370 | Train Accuracy: 90.52% | Val Loss: 0.3434 | Val Accuracy: 90.32%\n",
      "Epoch [6/50]: Train Loss: 0.3047 | Train Accuracy: 91.39% | Val Loss: 0.3141 | Val Accuracy: 91.03%\n",
      "Epoch [7/50]: Train Loss: 0.2791 | Train Accuracy: 92.01% | Val Loss: 0.2915 | Val Accuracy: 91.72%\n",
      "Epoch [8/50]: Train Loss: 0.2556 | Train Accuracy: 92.69% | Val Loss: 0.2719 | Val Accuracy: 92.53%\n",
      "Epoch [9/50]: Train Loss: 0.2353 | Train Accuracy: 93.19% | Val Loss: 0.2499 | Val Accuracy: 92.91%\n",
      "Epoch [10/50]: Train Loss: 0.2157 | Train Accuracy: 93.84% | Val Loss: 0.2397 | Val Accuracy: 92.94%\n",
      "Epoch [11/50]: Train Loss: 0.1995 | Train Accuracy: 94.26% | Val Loss: 0.2216 | Val Accuracy: 93.81%\n",
      "Epoch [12/50]: Train Loss: 0.1845 | Train Accuracy: 94.74% | Val Loss: 0.2065 | Val Accuracy: 94.10%\n",
      "Epoch [13/50]: Train Loss: 0.1713 | Train Accuracy: 95.05% | Val Loss: 0.1956 | Val Accuracy: 94.24%\n",
      "Epoch [14/50]: Train Loss: 0.1595 | Train Accuracy: 95.49% | Val Loss: 0.1871 | Val Accuracy: 94.64%\n",
      "Epoch [15/50]: Train Loss: 0.1490 | Train Accuracy: 95.74% | Val Loss: 0.1754 | Val Accuracy: 94.92%\n",
      "Epoch [16/50]: Train Loss: 0.1394 | Train Accuracy: 95.97% | Val Loss: 0.1670 | Val Accuracy: 95.20%\n",
      "Epoch [17/50]: Train Loss: 0.1306 | Train Accuracy: 96.28% | Val Loss: 0.1609 | Val Accuracy: 95.42%\n",
      "Epoch [18/50]: Train Loss: 0.1226 | Train Accuracy: 96.50% | Val Loss: 0.1551 | Val Accuracy: 95.52%\n",
      "Epoch [19/50]: Train Loss: 0.1149 | Train Accuracy: 96.77% | Val Loss: 0.1485 | Val Accuracy: 95.75%\n",
      "Epoch [20/50]: Train Loss: 0.1089 | Train Accuracy: 96.92% | Val Loss: 0.1452 | Val Accuracy: 95.86%\n",
      "Epoch [21/50]: Train Loss: 0.1022 | Train Accuracy: 97.13% | Val Loss: 0.1387 | Val Accuracy: 95.89%\n",
      "Epoch [22/50]: Train Loss: 0.0968 | Train Accuracy: 97.29% | Val Loss: 0.1363 | Val Accuracy: 96.03%\n",
      "Epoch [23/50]: Train Loss: 0.0916 | Train Accuracy: 97.42% | Val Loss: 0.1294 | Val Accuracy: 96.26%\n",
      "Epoch [24/50]: Train Loss: 0.0863 | Train Accuracy: 97.63% | Val Loss: 0.1275 | Val Accuracy: 96.28%\n",
      "Epoch [25/50]: Train Loss: 0.0821 | Train Accuracy: 97.69% | Val Loss: 0.1250 | Val Accuracy: 96.37%\n",
      "Epoch [26/50]: Train Loss: 0.0779 | Train Accuracy: 97.84% | Val Loss: 0.1213 | Val Accuracy: 96.47%\n",
      "Epoch [27/50]: Train Loss: 0.0740 | Train Accuracy: 97.97% | Val Loss: 0.1214 | Val Accuracy: 96.53%\n",
      "Epoch [28/50]: Train Loss: 0.0695 | Train Accuracy: 98.09% | Val Loss: 0.1171 | Val Accuracy: 96.57%\n",
      "Epoch [29/50]: Train Loss: 0.0666 | Train Accuracy: 98.19% | Val Loss: 0.1125 | Val Accuracy: 96.68%\n",
      "Epoch [30/50]: Train Loss: 0.0628 | Train Accuracy: 98.29% | Val Loss: 0.1128 | Val Accuracy: 96.56%\n",
      "Epoch [31/50]: Train Loss: 0.0599 | Train Accuracy: 98.30% | Val Loss: 0.1110 | Val Accuracy: 96.64%\n",
      "Epoch [32/50]: Train Loss: 0.0568 | Train Accuracy: 98.47% | Val Loss: 0.1094 | Val Accuracy: 96.67%\n",
      "Epoch [33/50]: Train Loss: 0.0539 | Train Accuracy: 98.56% | Val Loss: 0.1079 | Val Accuracy: 96.72%\n",
      "Epoch [34/50]: Train Loss: 0.0511 | Train Accuracy: 98.65% | Val Loss: 0.1030 | Val Accuracy: 96.97%\n",
      "Epoch [35/50]: Train Loss: 0.0489 | Train Accuracy: 98.73% | Val Loss: 0.1031 | Val Accuracy: 96.95%\n",
      "Epoch [36/50]: Train Loss: 0.0463 | Train Accuracy: 98.80% | Val Loss: 0.1034 | Val Accuracy: 96.89%\n",
      "Epoch [37/50]: Train Loss: 0.0440 | Train Accuracy: 98.85% | Val Loss: 0.1028 | Val Accuracy: 96.95%\n",
      "Epoch [38/50]: Train Loss: 0.0417 | Train Accuracy: 98.94% | Val Loss: 0.0999 | Val Accuracy: 97.08%\n",
      "Epoch [39/50]: Train Loss: 0.0398 | Train Accuracy: 99.03% | Val Loss: 0.1003 | Val Accuracy: 96.97%\n",
      "Epoch [40/50]: Train Loss: 0.0380 | Train Accuracy: 99.04% | Val Loss: 0.0980 | Val Accuracy: 97.15%\n",
      "Epoch [41/50]: Train Loss: 0.0359 | Train Accuracy: 99.11% | Val Loss: 0.0964 | Val Accuracy: 97.17%\n",
      "Epoch [42/50]: Train Loss: 0.0340 | Train Accuracy: 99.14% | Val Loss: 0.0988 | Val Accuracy: 97.14%\n",
      "Epoch [43/50]: Train Loss: 0.0326 | Train Accuracy: 99.25% | Val Loss: 0.0962 | Val Accuracy: 97.19%\n",
      "Epoch [44/50]: Train Loss: 0.0306 | Train Accuracy: 99.25% | Val Loss: 0.0945 | Val Accuracy: 97.27%\n",
      "Epoch [45/50]: Train Loss: 0.0290 | Train Accuracy: 99.33% | Val Loss: 0.0954 | Val Accuracy: 97.14%\n",
      "Epoch [46/50]: Train Loss: 0.0274 | Train Accuracy: 99.37% | Val Loss: 0.1006 | Val Accuracy: 97.02%\n",
      "Epoch [47/50]: Train Loss: 0.0261 | Train Accuracy: 99.42% | Val Loss: 0.0945 | Val Accuracy: 97.23%\n",
      "Epoch [48/50]: Train Loss: 0.0247 | Train Accuracy: 99.49% | Val Loss: 0.0945 | Val Accuracy: 97.24%\n",
      "Epoch [49/50]: Train Loss: 0.0234 | Train Accuracy: 99.50% | Val Loss: 0.0941 | Val Accuracy: 97.24%\n",
      "Epoch [50/50]: Train Loss: 0.0222 | Train Accuracy: 99.55% | Val Loss: 0.0945 | Val Accuracy: 97.24%\n"
     ]
    }
   ],
   "source": [
    "model, history = fit(\n",
    "    model,\n",
    "    train_loader = train_loader,\n",
    "    val_loader = val_loader,\n",
    "    device = DEVICE,\n",
    "    optimizer = optimizer,\n",
    "    criterion = criterion,\n",
    "    num_epochs = NUM_EPOCHS\n",
    ")"
   ]
  },
  {
   "cell_type": "markdown",
   "metadata": {},
   "source": [
    "### 7. Plot loss and accuracy"
   ]
  },
  {
   "cell_type": "code",
   "execution_count": 103,
   "metadata": {},
   "outputs": [
    {
     "data": {
      "image/png": "[encoded data removed]",
      "text/plain": [
       "<Figure size 1200x600 with 2 Axes>"
      ]
     },
     "metadata": {},
     "output_type": "display_data"
    }
   ],
   "source": [
    "plot_training_history(history)\n",
    "\n",
    "# if the curve hasn't flattened out - it means we havn't hit a minimum yet => we need to keep training\n",
    "# We can also add more neurons in our hidden layer, and tune our hyperparamters (learning rate)"
   ]
  },
  {
   "cell_type": "markdown",
   "metadata": {},
   "source": [
    "### 8. Evaluate"
   ]
  },
  {
   "cell_type": "code",
   "execution_count": 104,
   "metadata": {},
   "outputs": [
    {
     "name": "stdout",
     "output_type": "stream",
     "text": [
      "Evaluation Results:\n",
      "Loss: 0.0198, Accuracy: 99.67%\n",
      "\n",
      "Classification Report:\n",
      "              precision    recall  f1-score   support\n",
      "\n",
      "           0       1.00      1.00      1.00      4735\n",
      "           1       1.00      1.00      1.00      5383\n",
      "           2       1.00      1.00      1.00      4762\n",
      "           3       1.00      1.00      1.00      4886\n",
      "           4       0.99      1.00      1.00      4681\n",
      "           5       1.00      1.00      1.00      4368\n",
      "           6       1.00      1.00      1.00      4752\n",
      "           7       1.00      1.00      1.00      4983\n",
      "           8       1.00      0.99      1.00      4674\n",
      "           9       1.00      0.99      0.99      4776\n",
      "\n",
      "    accuracy                           1.00     48000\n",
      "   macro avg       1.00      1.00      1.00     48000\n",
      "weighted avg       1.00      1.00      1.00     48000\n",
      "\n"
     ]
    }
   ],
   "source": [
    "evaluate(\n",
    "    model = model,\n",
    "    data_loader = train_loader,  # evaluate on training data\n",
    "    criterion = criterion,\n",
    "    device = DEVICE,\n",
    ")"
   ]
  },
  {
   "cell_type": "code",
   "execution_count": 105,
   "metadata": {},
   "outputs": [
    {
     "name": "stdout",
     "output_type": "stream",
     "text": [
      "Evaluation Results:\n",
      "Loss: 0.0945, Accuracy: 97.24%\n",
      "\n",
      "Classification Report:\n",
      "              precision    recall  f1-score   support\n",
      "\n",
      "           0       0.99      0.97      0.98      1188\n",
      "           1       0.98      0.99      0.99      1359\n",
      "           2       0.97      0.97      0.97      1196\n",
      "           3       0.96      0.97      0.97      1245\n",
      "           4       0.97      0.98      0.97      1161\n",
      "           5       0.96      0.97      0.97      1053\n",
      "           6       0.98      0.98      0.98      1166\n",
      "           7       0.98      0.98      0.98      1282\n",
      "           8       0.98      0.96      0.97      1177\n",
      "           9       0.96      0.95      0.96      1173\n",
      "\n",
      "    accuracy                           0.97     12000\n",
      "   macro avg       0.97      0.97      0.97     12000\n",
      "weighted avg       0.97      0.97      0.97     12000\n",
      "\n"
     ]
    }
   ],
   "source": [
    "evaluate(\n",
    "    model = model,\n",
    "    data_loader = val_loader,  # evaluate on validation data\n",
    "    criterion = criterion,\n",
    "    device = DEVICE,\n",
    ")"
   ]
  },
  {
   "cell_type": "code",
   "execution_count": 106,
   "metadata": {},
   "outputs": [
    {
     "name": "stdout",
     "output_type": "stream",
     "text": [
      "Evaluation Results:\n",
      "Loss: 0.0786, Accuracy: 97.64%\n",
      "\n",
      "Classification Report:\n",
      "              precision    recall  f1-score   support\n",
      "\n",
      "           0       0.98      0.98      0.98       980\n",
      "           1       0.99      0.99      0.99      1135\n",
      "           2       0.98      0.98      0.98      1032\n",
      "           3       0.96      0.98      0.97      1010\n",
      "           4       0.97      0.98      0.97       982\n",
      "           5       0.97      0.97      0.97       892\n",
      "           6       0.98      0.98      0.98       958\n",
      "           7       0.98      0.97      0.98      1028\n",
      "           8       0.97      0.97      0.97       974\n",
      "           9       0.98      0.96      0.97      1009\n",
      "\n",
      "    accuracy                           0.98     10000\n",
      "   macro avg       0.98      0.98      0.98     10000\n",
      "weighted avg       0.98      0.98      0.98     10000\n",
      "\n"
     ]
    }
   ],
   "source": [
    "evaluate(\n",
    "    model = model,\n",
    "    data_loader = test_loader,  # evaluate on testing data\n",
    "    criterion = criterion,\n",
    "    device = DEVICE,\n",
    ")"
   ]
  },
  {
   "cell_type": "markdown",
   "metadata": {},
   "source": [
    "### 9. Results\n",
    "\n",
    "Result where\n",
    "- `NUM_EPOCHS = 30`\n",
    "- `LR = 0.01`\n",
    "\n",
    "|                  | Base  | Expansion Contraction | Funnel |\n",
    "|------------------|-------|-----------------------|--------|\n",
    "| Train score      |95.91% | 97.70%           \t   | 98.36% |\n",
    "| Validation score |94.79% | 96.39%                | 96.68% |\n",
    "\n",
    "While `MLP_Funnel` had best validation and train score, the learning curve looked a lot more flattened out than the other two models.\n",
    "\n",
    "I then tried to tune the hyperparamethers `NUM_EPOCHS` and `LR` to see if that would change the results.\n",
    "\n",
    "Results where\n",
    "- `NUM_OF_EPOCHS = 50`\n",
    "- `LR = 0.01`\n",
    "\n",
    "|                  | Base  | Expansion Contraction | Funnel |\n",
    "|------------------|-------|-----------------------|--------|\n",
    "| Train score      |97.27% | 98.97%           \t   | 99.69% |\n",
    "| Validation score |96.56% | 97.13%                | 97.28% |\n",
    "\n",
    "Still the best performing model is the Funnel model, however the Funnel model's learning curve has flattened out to be almost horizontal. Whereas the base model's curve does not seem to be flatting out, and the EC model is just starting to flatten out. \n",
    "\n",
    "Next I will try to adjust the learning rate, to compare results.\n",
    "\n",
    "Results where\n",
    "- `NUM_OF_EPOCHS = 50`\n",
    "- `LR = 0.005`\n",
    "\n",
    "|                  | Base  | Expansion Contraction | Funnel |\n",
    "|------------------|-------|-----------------------|--------|\n",
    "| Train score      |95.21% | 97.16%           \t   | 97.81% |\n",
    "| Validation score |94.32% | 95.75%                | 96.27% |\n",
    "\n",
    "This configration proved to be the worst configuration yet, instead I will now try to increase the learning rate.\n",
    "\n",
    "Results where\n",
    "- `NUM_OF_EPOCHS = 50`\n",
    "- `LR = 0.05`\n",
    "\n",
    "|                  | Base  | Expansion Contraction | Funnel |\n",
    "|------------------|-------|-----------------------|--------|\n",
    "| Train score      |99.88% | 100.00%           \t   |100.00% |\n",
    "| Validation score |97.67% | 97.82%                | 97.78% |\n",
    "\n",
    "This configuration seems to have created overfit models, as the train score is 100.00% on both the EC model and the Funnel model."
   ]
  },
  {
   "cell_type": "markdown",
   "metadata": {},
   "source": [
    "### 10. Conclusion\n",
    "\n",
    "The best configration were, where:\n",
    "- `NUM_OF_EPOCHS = 50`\n",
    "- `LR = 0.01`\n",
    "\n",
    "And the model with the best resutls where the `MLP_Funnel`.\n",
    "\n",
    "Lastly we look at the test score, to give it a final evaluation.\n",
    "\n",
    "|                  | Funnel |\n",
    "|------------------|--------|\n",
    "| Train score      | 99.67% |\n",
    "| Validation score | 97.24% |\n",
    "| Test score       | 97.64% |\n",
    "\n"
   ]
  }
 ],
 "metadata": {
  "kernelspec": {
   "display_name": "aiml25-ma1",
   "language": "python",
   "name": "python3"
  },
  "language_info": {
   "codemirror_mode": {
    "name": "ipython",
    "version": 3
   },
   "file_extension": ".py",
   "mimetype": "text/x-python",
   "name": "python",
   "nbconvert_exporter": "python",
   "pygments_lexer": "ipython3",
   "version": "3.13.1"
  }
 },
 "nbformat": 4,
 "nbformat_minor": 2
}
